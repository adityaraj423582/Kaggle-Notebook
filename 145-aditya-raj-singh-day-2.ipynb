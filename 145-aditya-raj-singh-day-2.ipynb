{
 "cells": [
  {
   "cell_type": "markdown",
   "id": "57dcc572",
   "metadata": {
    "_cell_guid": "b1076dfc-b9ad-4769-8c92-a6c4dae69d19",
    "_uuid": "8f2839f25d086af736a60e9eeb907d3b93b6e0e5",
    "papermill": {
     "duration": 0.0266,
     "end_time": "2022-05-02T10:58:41.196666",
     "exception": false,
     "start_time": "2022-05-02T10:58:41.170066",
     "status": "completed"
    },
    "tags": []
   },
   "source": [
    "#### This Python 3 environment comes with many helpful analytics libraries installed\n",
    "# It is defined by the kaggle/python Docker image: https://github.com/kaggle/docker-python\n",
    "# For example, here's several helpful packages to load\n",
    "\n",
    "import numpy as np # linear algebra\n",
    "import pandas as pd # data processing, CSV file I/O (e.g. pd.read_csv)\n",
    "\n",
    "# Input data files are available in the read-only \"../input/\" directory\n",
    "# For example, running this (by clicking run or pressing Shift+Enter) will list all files under the input directory\n",
    "\n",
    "import os\n",
    "for dirname, _, filenames in os.walk('/kaggle/input'):\n",
    "    for filename in filenames:\n",
    "        print(os.path.join(dirname, filename))\n",
    "\n",
    "# You can write up to 20GB to the current directory (/kaggle/working/) that gets preserved as output when you create a version using \"Save & Run All\" \n",
    "# You can also write temporary files to /kaggle/temp/, but they won't be saved outside of the current session"
   ]
  },
  {
   "cell_type": "code",
   "execution_count": 1,
   "id": "ad2e0493",
   "metadata": {
    "execution": {
     "iopub.execute_input": "2022-05-02T10:58:41.248397Z",
     "iopub.status.busy": "2022-05-02T10:58:41.247398Z",
     "iopub.status.idle": "2022-05-02T10:58:41.264991Z",
     "shell.execute_reply": "2022-05-02T10:58:41.263486Z"
    },
    "papermill": {
     "duration": 0.047467,
     "end_time": "2022-05-02T10:58:41.268286",
     "exception": false,
     "start_time": "2022-05-02T10:58:41.220819",
     "status": "completed"
    },
    "tags": []
   },
   "outputs": [
    {
     "name": "stdout",
     "output_type": "stream",
     "text": [
      "[[10  2  3]\n",
      " [23 45 67]]\n",
      "[[1. 1. 1.]\n",
      " [1. 1. 1.]]\n",
      "[[0 0 0]\n",
      " [0 0 0]]\n"
     ]
    }
   ],
   "source": [
    "import numpy as np\n",
    "arr1 = np.empty((2,3))\n",
    "arr2 = np.array([[10,2,3],[23,45,67]])\n",
    "print (arr2)\n",
    "arr3 = np.ones ((2,3))\n",
    "print (arr3)\n",
    "Arr4 = np.zeros((2,3),dtype=int)\n",
    "print (Arr4)"
   ]
  },
  {
   "cell_type": "code",
   "execution_count": 2,
   "id": "b37efd3f",
   "metadata": {
    "execution": {
     "iopub.execute_input": "2022-05-02T10:58:41.320334Z",
     "iopub.status.busy": "2022-05-02T10:58:41.319777Z",
     "iopub.status.idle": "2022-05-02T10:58:41.328118Z",
     "shell.execute_reply": "2022-05-02T10:58:41.327397Z"
    },
    "papermill": {
     "duration": 0.036707,
     "end_time": "2022-05-02T10:58:41.330171",
     "exception": false,
     "start_time": "2022-05-02T10:58:41.293464",
     "status": "completed"
    },
    "tags": []
   },
   "outputs": [
    {
     "data": {
      "text/plain": [
       "array([[0.202316  , 0.44229407],\n",
       "       [0.9654521 , 0.69964822]])"
      ]
     },
     "execution_count": 2,
     "metadata": {},
     "output_type": "execute_result"
    }
   ],
   "source": [
    "np.random.random((2,2))"
   ]
  },
  {
   "cell_type": "code",
   "execution_count": 3,
   "id": "fe66fa1e",
   "metadata": {
    "execution": {
     "iopub.execute_input": "2022-05-02T10:58:41.383725Z",
     "iopub.status.busy": "2022-05-02T10:58:41.383122Z",
     "iopub.status.idle": "2022-05-02T10:58:41.388808Z",
     "shell.execute_reply": "2022-05-02T10:58:41.388016Z"
    },
    "papermill": {
     "duration": 0.034396,
     "end_time": "2022-05-02T10:58:41.391617",
     "exception": false,
     "start_time": "2022-05-02T10:58:41.357221",
     "status": "completed"
    },
    "tags": []
   },
   "outputs": [
    {
     "name": "stdout",
     "output_type": "stream",
     "text": [
      "[  5.67   2.    56.   304.  ]\n"
     ]
    }
   ],
   "source": [
    "var2= np.empty(4)\n",
    "var2[0] = 5.67\n",
    "var2[1] =2\n",
    "var2[2] = 56\n",
    "var2[3] = 304\n",
    "print (var2)"
   ]
  },
  {
   "cell_type": "code",
   "execution_count": 4,
   "id": "df9b8b71",
   "metadata": {
    "execution": {
     "iopub.execute_input": "2022-05-02T10:58:41.446301Z",
     "iopub.status.busy": "2022-05-02T10:58:41.445702Z",
     "iopub.status.idle": "2022-05-02T10:58:41.451438Z",
     "shell.execute_reply": "2022-05-02T10:58:41.450272Z"
    },
    "papermill": {
     "duration": 0.035943,
     "end_time": "2022-05-02T10:58:41.453825",
     "exception": false,
     "start_time": "2022-05-02T10:58:41.417882",
     "status": "completed"
    },
    "tags": []
   },
   "outputs": [
    {
     "name": "stdout",
     "output_type": "stream",
     "text": [
      "(4,)\n"
     ]
    }
   ],
   "source": [
    "print (var2.shape)"
   ]
  },
  {
   "cell_type": "code",
   "execution_count": 5,
   "id": "c6c94a11",
   "metadata": {
    "execution": {
     "iopub.execute_input": "2022-05-02T10:58:41.507273Z",
     "iopub.status.busy": "2022-05-02T10:58:41.506694Z",
     "iopub.status.idle": "2022-05-02T10:58:41.515335Z",
     "shell.execute_reply": "2022-05-02T10:58:41.513978Z"
    },
    "papermill": {
     "duration": 0.038995,
     "end_time": "2022-05-02T10:58:41.518226",
     "exception": false,
     "start_time": "2022-05-02T10:58:41.479231",
     "status": "completed"
    },
    "tags": []
   },
   "outputs": [
    {
     "name": "stdout",
     "output_type": "stream",
     "text": [
      "[[5.670e+00 2.000e+00 5.600e+01]\n",
      " [9.000e-02 1.320e+02 1.056e+03]]\n",
      "(2, 3)\n"
     ]
    }
   ],
   "source": [
    "var3 = np.empty((2,3))\n",
    "var3[0][0] = 5.67\n",
    "var3[0][1] = 2\n",
    "var3[0][2] = 56\n",
    "var3[1][0] = .09\n",
    "var3[1][1] = 132\n",
    "var3[1][2] = 1056\n",
    "print(var3)\n",
    "print(var3.shape)"
   ]
  },
  {
   "cell_type": "code",
   "execution_count": 6,
   "id": "76fe71ed",
   "metadata": {
    "execution": {
     "iopub.execute_input": "2022-05-02T10:58:41.570610Z",
     "iopub.status.busy": "2022-05-02T10:58:41.570297Z",
     "iopub.status.idle": "2022-05-02T10:58:41.577450Z",
     "shell.execute_reply": "2022-05-02T10:58:41.576602Z"
    },
    "papermill": {
     "duration": 0.035779,
     "end_time": "2022-05-02T10:58:41.579860",
     "exception": false,
     "start_time": "2022-05-02T10:58:41.544081",
     "status": "completed"
    },
    "tags": []
   },
   "outputs": [
    {
     "name": "stdout",
     "output_type": "stream",
     "text": [
      "[[   5    2   56]\n",
      " [   0  132 1056]]\n"
     ]
    }
   ],
   "source": [
    "var3 = np.empty((2,3), dtype=int)\n",
    "var3[0][0] = 5.67\n",
    "var3[0][1] = 2\n",
    "var3[0][2] = 56\n",
    "var3[1][0] = .09\n",
    "var3[1][1] = 132\n",
    "var3[1][2] = 1056\n",
    "print (var3)"
   ]
  },
  {
   "cell_type": "code",
   "execution_count": 7,
   "id": "423c8237",
   "metadata": {
    "execution": {
     "iopub.execute_input": "2022-05-02T10:58:41.632379Z",
     "iopub.status.busy": "2022-05-02T10:58:41.631790Z",
     "iopub.status.idle": "2022-05-02T10:58:41.637813Z",
     "shell.execute_reply": "2022-05-02T10:58:41.636582Z"
    },
    "papermill": {
     "duration": 0.034813,
     "end_time": "2022-05-02T10:58:41.639868",
     "exception": false,
     "start_time": "2022-05-02T10:58:41.605055",
     "status": "completed"
    },
    "tags": []
   },
   "outputs": [
    {
     "name": "stdout",
     "output_type": "stream",
     "text": [
      "[   0  132 1056]\n"
     ]
    }
   ],
   "source": [
    "print(var3[1])"
   ]
  },
  {
   "cell_type": "code",
   "execution_count": 8,
   "id": "05c8b95c",
   "metadata": {
    "execution": {
     "iopub.execute_input": "2022-05-02T10:58:41.694848Z",
     "iopub.status.busy": "2022-05-02T10:58:41.694270Z",
     "iopub.status.idle": "2022-05-02T10:58:41.700534Z",
     "shell.execute_reply": "2022-05-02T10:58:41.699173Z"
    },
    "papermill": {
     "duration": 0.035187,
     "end_time": "2022-05-02T10:58:41.702580",
     "exception": false,
     "start_time": "2022-05-02T10:58:41.667393",
     "status": "completed"
    },
    "tags": []
   },
   "outputs": [
    {
     "name": "stdout",
     "output_type": "stream",
     "text": [
      "[[   5    2   56]\n",
      " [   0  132 1056]]\n"
     ]
    }
   ],
   "source": [
    "print(var3[[0, 1]])"
   ]
  },
  {
   "cell_type": "code",
   "execution_count": 9,
   "id": "2ea0f74d",
   "metadata": {
    "execution": {
     "iopub.execute_input": "2022-05-02T10:58:41.755676Z",
     "iopub.status.busy": "2022-05-02T10:58:41.755140Z",
     "iopub.status.idle": "2022-05-02T10:58:41.761583Z",
     "shell.execute_reply": "2022-05-02T10:58:41.760009Z"
    },
    "papermill": {
     "duration": 0.035421,
     "end_time": "2022-05-02T10:58:41.763660",
     "exception": false,
     "start_time": "2022-05-02T10:58:41.728239",
     "status": "completed"
    },
    "tags": []
   },
   "outputs": [
    {
     "name": "stdout",
     "output_type": "stream",
     "text": [
      "[  56 1056]\n"
     ]
    }
   ],
   "source": [
    "print(var3[:, 2])"
   ]
  },
  {
   "cell_type": "code",
   "execution_count": 10,
   "id": "fe973ed0",
   "metadata": {
    "execution": {
     "iopub.execute_input": "2022-05-02T10:58:41.818877Z",
     "iopub.status.busy": "2022-05-02T10:58:41.818306Z",
     "iopub.status.idle": "2022-05-02T10:58:41.824152Z",
     "shell.execute_reply": "2022-05-02T10:58:41.823262Z"
    },
    "papermill": {
     "duration": 0.036038,
     "end_time": "2022-05-02T10:58:41.826368",
     "exception": false,
     "start_time": "2022-05-02T10:58:41.790330",
     "status": "completed"
    },
    "tags": []
   },
   "outputs": [
    {
     "name": "stdout",
     "output_type": "stream",
     "text": [
      "1056\n"
     ]
    }
   ],
   "source": [
    "print(var3[1][2])"
   ]
  },
  {
   "cell_type": "code",
   "execution_count": 11,
   "id": "6d4657e7",
   "metadata": {
    "execution": {
     "iopub.execute_input": "2022-05-02T10:58:41.882007Z",
     "iopub.status.busy": "2022-05-02T10:58:41.881687Z",
     "iopub.status.idle": "2022-05-02T10:58:41.887204Z",
     "shell.execute_reply": "2022-05-02T10:58:41.886239Z"
    },
    "papermill": {
     "duration": 0.036107,
     "end_time": "2022-05-02T10:58:41.889435",
     "exception": false,
     "start_time": "2022-05-02T10:58:41.853328",
     "status": "completed"
    },
    "tags": []
   },
   "outputs": [
    {
     "name": "stdout",
     "output_type": "stream",
     "text": [
      "[[   2   56]\n",
      " [ 132 1056]]\n"
     ]
    }
   ],
   "source": [
    "print(var3[:, [1, 2]])"
   ]
  },
  {
   "cell_type": "code",
   "execution_count": 12,
   "id": "aedc24c9",
   "metadata": {
    "execution": {
     "iopub.execute_input": "2022-05-02T10:58:41.950240Z",
     "iopub.status.busy": "2022-05-02T10:58:41.949577Z",
     "iopub.status.idle": "2022-05-02T10:58:41.955609Z",
     "shell.execute_reply": "2022-05-02T10:58:41.954186Z"
    },
    "papermill": {
     "duration": 0.040091,
     "end_time": "2022-05-02T10:58:41.958121",
     "exception": false,
     "start_time": "2022-05-02T10:58:41.918030",
     "status": "completed"
    },
    "tags": []
   },
   "outputs": [
    {
     "name": "stdout",
     "output_type": "stream",
     "text": [
      "[[   5    0]\n",
      " [   2  132]\n",
      " [  56 1056]]\n"
     ]
    }
   ],
   "source": [
    "print(np.transpose(var3))"
   ]
  },
  {
   "cell_type": "code",
   "execution_count": 13,
   "id": "76d5f862",
   "metadata": {
    "execution": {
     "iopub.execute_input": "2022-05-02T10:58:42.016856Z",
     "iopub.status.busy": "2022-05-02T10:58:42.016556Z",
     "iopub.status.idle": "2022-05-02T10:58:42.021779Z",
     "shell.execute_reply": "2022-05-02T10:58:42.020766Z"
    },
    "papermill": {
     "duration": 0.038384,
     "end_time": "2022-05-02T10:58:42.024170",
     "exception": false,
     "start_time": "2022-05-02T10:58:41.985786",
     "status": "completed"
    },
    "tags": []
   },
   "outputs": [
    {
     "name": "stdout",
     "output_type": "stream",
     "text": [
      "[[   5    2]\n",
      " [  56    0]\n",
      " [ 132 1056]]\n"
     ]
    }
   ],
   "source": [
    "print(var3.reshape(3,2))\n"
   ]
  },
  {
   "cell_type": "code",
   "execution_count": 14,
   "id": "cf6751ff",
   "metadata": {
    "execution": {
     "iopub.execute_input": "2022-05-02T10:58:42.087707Z",
     "iopub.status.busy": "2022-05-02T10:58:42.087351Z",
     "iopub.status.idle": "2022-05-02T10:58:42.094403Z",
     "shell.execute_reply": "2022-05-02T10:58:42.093452Z"
    },
    "papermill": {
     "duration": 0.043093,
     "end_time": "2022-05-02T10:58:42.096851",
     "exception": false,
     "start_time": "2022-05-02T10:58:42.053758",
     "status": "completed"
    },
    "tags": []
   },
   "outputs": [
    {
     "name": "stdout",
     "output_type": "stream",
     "text": [
      "[[   5    2   56]\n",
      " [   0  132 1056]]\n"
     ]
    }
   ],
   "source": [
    "arr4= np.empty((2,3), dtype=int)\n",
    "arr4[0][0] = 5.67\n",
    "arr4[0][1] = 2\n",
    "arr4[0][2] = 56\n",
    "arr4[1][0] = .09\n",
    "arr4[1][1] = 132\n",
    "arr4[1][2] = 1056\n",
    "print (arr4)"
   ]
  },
  {
   "cell_type": "code",
   "execution_count": 15,
   "id": "38a2980c",
   "metadata": {
    "execution": {
     "iopub.execute_input": "2022-05-02T10:58:42.159176Z",
     "iopub.status.busy": "2022-05-02T10:58:42.158836Z",
     "iopub.status.idle": "2022-05-02T10:58:42.165789Z",
     "shell.execute_reply": "2022-05-02T10:58:42.164715Z"
    },
    "papermill": {
     "duration": 0.040879,
     "end_time": "2022-05-02T10:58:42.168027",
     "exception": false,
     "start_time": "2022-05-02T10:58:42.127148",
     "status": "completed"
    },
    "tags": []
   },
   "outputs": [
    {
     "name": "stdout",
     "output_type": "stream",
     "text": [
      "[[  37    2 5609]]\n"
     ]
    }
   ],
   "source": [
    "arr5 = np.empty((1,3), dtype=int)\n",
    "arr5[0][0] = 37\n",
    "arr5[0][1] = 2.193\n",
    "arr5[0][2] = 5609\n",
    "print (arr5)"
   ]
  },
  {
   "cell_type": "code",
   "execution_count": 16,
   "id": "8e8a2d28",
   "metadata": {
    "execution": {
     "iopub.execute_input": "2022-05-02T10:58:42.228402Z",
     "iopub.status.busy": "2022-05-02T10:58:42.228080Z",
     "iopub.status.idle": "2022-05-02T10:58:42.234646Z",
     "shell.execute_reply": "2022-05-02T10:58:42.233377Z"
    },
    "papermill": {
     "duration": 0.040267,
     "end_time": "2022-05-02T10:58:42.237134",
     "exception": false,
     "start_time": "2022-05-02T10:58:42.196867",
     "status": "completed"
    },
    "tags": []
   },
   "outputs": [
    {
     "name": "stdout",
     "output_type": "stream",
     "text": [
      "[[   5    2   56]\n",
      " [   0  132 1056]\n",
      " [  37    2 5609]]\n"
     ]
    }
   ],
   "source": [
    "arr_concat = np.concatenate((arr4, arr5), axis = 0)\n",
    "print(arr_concat)"
   ]
  },
  {
   "cell_type": "code",
   "execution_count": 17,
   "id": "86931dea",
   "metadata": {
    "execution": {
     "iopub.execute_input": "2022-05-02T10:58:42.301004Z",
     "iopub.status.busy": "2022-05-02T10:58:42.300574Z",
     "iopub.status.idle": "2022-05-02T10:58:42.306750Z",
     "shell.execute_reply": "2022-05-02T10:58:42.305717Z"
    },
    "papermill": {
     "duration": 0.041329,
     "end_time": "2022-05-02T10:58:42.308887",
     "exception": false,
     "start_time": "2022-05-02T10:58:42.267558",
     "status": "completed"
    },
    "tags": []
   },
   "outputs": [
    {
     "data": {
      "text/plain": [
       "2.0"
      ]
     },
     "execution_count": 17,
     "metadata": {},
     "output_type": "execute_result"
    }
   ],
   "source": [
    "var2.min()"
   ]
  },
  {
   "cell_type": "code",
   "execution_count": 18,
   "id": "13709218",
   "metadata": {
    "execution": {
     "iopub.execute_input": "2022-05-02T10:58:42.371297Z",
     "iopub.status.busy": "2022-05-02T10:58:42.370373Z",
     "iopub.status.idle": "2022-05-02T10:58:42.376226Z",
     "shell.execute_reply": "2022-05-02T10:58:42.375580Z"
    },
    "papermill": {
     "duration": 0.038706,
     "end_time": "2022-05-02T10:58:42.378069",
     "exception": false,
     "start_time": "2022-05-02T10:58:42.339363",
     "status": "completed"
    },
    "tags": []
   },
   "outputs": [
    {
     "data": {
      "text/plain": [
       "304.0"
      ]
     },
     "execution_count": 18,
     "metadata": {},
     "output_type": "execute_result"
    }
   ],
   "source": [
    "var2.max()"
   ]
  },
  {
   "cell_type": "code",
   "execution_count": 19,
   "id": "67287baf",
   "metadata": {
    "execution": {
     "iopub.execute_input": "2022-05-02T10:58:42.440463Z",
     "iopub.status.busy": "2022-05-02T10:58:42.440150Z",
     "iopub.status.idle": "2022-05-02T10:58:42.447754Z",
     "shell.execute_reply": "2022-05-02T10:58:42.446775Z"
    },
    "papermill": {
     "duration": 0.041445,
     "end_time": "2022-05-02T10:58:42.449772",
     "exception": false,
     "start_time": "2022-05-02T10:58:42.408327",
     "status": "completed"
    },
    "tags": []
   },
   "outputs": [
    {
     "data": {
      "text/plain": [
       "array([  5.67,   7.67,  63.67, 367.67])"
      ]
     },
     "execution_count": 19,
     "metadata": {},
     "output_type": "execute_result"
    }
   ],
   "source": [
    "var2.cumsum()"
   ]
  },
  {
   "cell_type": "code",
   "execution_count": 20,
   "id": "6e984ae7",
   "metadata": {
    "execution": {
     "iopub.execute_input": "2022-05-02T10:58:42.514767Z",
     "iopub.status.busy": "2022-05-02T10:58:42.514445Z",
     "iopub.status.idle": "2022-05-02T10:58:42.521687Z",
     "shell.execute_reply": "2022-05-02T10:58:42.520717Z"
    },
    "papermill": {
     "duration": 0.042913,
     "end_time": "2022-05-02T10:58:42.523997",
     "exception": false,
     "start_time": "2022-05-02T10:58:42.481084",
     "status": "completed"
    },
    "tags": []
   },
   "outputs": [
    {
     "data": {
      "text/plain": [
       "91.9175"
      ]
     },
     "execution_count": 20,
     "metadata": {},
     "output_type": "execute_result"
    }
   ],
   "source": [
    "var2.mean()"
   ]
  },
  {
   "cell_type": "code",
   "execution_count": 21,
   "id": "1540a6eb",
   "metadata": {
    "execution": {
     "iopub.execute_input": "2022-05-02T10:58:42.589443Z",
     "iopub.status.busy": "2022-05-02T10:58:42.588938Z",
     "iopub.status.idle": "2022-05-02T10:58:42.595691Z",
     "shell.execute_reply": "2022-05-02T10:58:42.594717Z"
    },
    "papermill": {
     "duration": 0.042358,
     "end_time": "2022-05-02T10:58:42.597851",
     "exception": false,
     "start_time": "2022-05-02T10:58:42.555493",
     "status": "completed"
    },
    "tags": []
   },
   "outputs": [
    {
     "data": {
      "text/plain": [
       "124.2908299865682"
      ]
     },
     "execution_count": 21,
     "metadata": {},
     "output_type": "execute_result"
    }
   ],
   "source": [
    "var2.std()"
   ]
  },
  {
   "cell_type": "code",
   "execution_count": null,
   "id": "ddb93a9c",
   "metadata": {
    "papermill": {
     "duration": 0.030733,
     "end_time": "2022-05-02T10:58:42.659997",
     "exception": false,
     "start_time": "2022-05-02T10:58:42.629264",
     "status": "completed"
    },
    "tags": []
   },
   "outputs": [],
   "source": []
  }
 ],
 "metadata": {
  "kernelspec": {
   "display_name": "Python 3",
   "language": "python",
   "name": "python3"
  },
  "language_info": {
   "codemirror_mode": {
    "name": "ipython",
    "version": 3
   },
   "file_extension": ".py",
   "mimetype": "text/x-python",
   "name": "python",
   "nbconvert_exporter": "python",
   "pygments_lexer": "ipython3",
   "version": "3.7.12"
  },
  "papermill": {
   "default_parameters": {},
   "duration": 13.739356,
   "end_time": "2022-05-02T10:58:43.412695",
   "environment_variables": {},
   "exception": null,
   "input_path": "__notebook__.ipynb",
   "output_path": "__notebook__.ipynb",
   "parameters": {},
   "start_time": "2022-05-02T10:58:29.673339",
   "version": "2.3.4"
  }
 },
 "nbformat": 4,
 "nbformat_minor": 5
}
