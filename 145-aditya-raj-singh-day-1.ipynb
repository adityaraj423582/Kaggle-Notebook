{
 "cells": [
  {
   "cell_type": "code",
   "execution_count": 1,
   "id": "432a4876",
   "metadata": {
    "_cell_guid": "b1076dfc-b9ad-4769-8c92-a6c4dae69d19",
    "_uuid": "8f2839f25d086af736a60e9eeb907d3b93b6e0e5",
    "execution": {
     "iopub.execute_input": "2022-05-02T10:57:29.668311Z",
     "iopub.status.busy": "2022-05-02T10:57:29.667959Z",
     "iopub.status.idle": "2022-05-02T10:57:29.684948Z",
     "shell.execute_reply": "2022-05-02T10:57:29.684381Z"
    },
    "papermill": {
     "duration": 0.02739,
     "end_time": "2022-05-02T10:57:29.686839",
     "exception": false,
     "start_time": "2022-05-02T10:57:29.659449",
     "status": "completed"
    },
    "tags": []
   },
   "outputs": [
    {
     "name": "stdout",
     "output_type": "stream",
     "text": [
      "/kaggle/input/iris-flower-dataset/IRIS.csv\n"
     ]
    }
   ],
   "source": [
    "# This Python 3 environment comes with many helpful analytics libraries installed\n",
    "# It is defined by the kaggle/python Docker image: https://github.com/kaggle/docker-python\n",
    "# For example, here's several helpful packages to load\n",
    "\n",
    "import numpy as np # linear algebra\n",
    "import pandas as pd # data processing, CSV file I/O (e.g. pd.read_csv)\n",
    "\n",
    "# Input data files are available in the read-only \"../input/\" directory\n",
    "# For example, running this (by clicking run or pressing Shift+Enter) will list all files under the input directory\n",
    "\n",
    "import os\n",
    "for dirname, _, filenames in os.walk('/kaggle/input'):\n",
    "    for filename in filenames:\n",
    "        print(os.path.join(dirname, filename))\n",
    "\n",
    "# You can write up to 20GB to the current directory (/kaggle/working/) that gets preserved as output when you create a version using \"Save & Run All\" \n",
    "# You can also write temporary files to /kaggle/temp/, but they won't be saved outside of the current session"
   ]
  },
  {
   "cell_type": "code",
   "execution_count": 2,
   "id": "fbdca0f3",
   "metadata": {
    "execution": {
     "iopub.execute_input": "2022-05-02T10:57:29.701076Z",
     "iopub.status.busy": "2022-05-02T10:57:29.700557Z",
     "iopub.status.idle": "2022-05-02T10:57:29.730311Z",
     "shell.execute_reply": "2022-05-02T10:57:29.729335Z"
    },
    "papermill": {
     "duration": 0.039875,
     "end_time": "2022-05-02T10:57:29.733393",
     "exception": false,
     "start_time": "2022-05-02T10:57:29.693518",
     "status": "completed"
    },
    "tags": []
   },
   "outputs": [
    {
     "name": "stdout",
     "output_type": "stream",
     "text": [
      "     sepal_length  sepal_width  petal_length  petal_width         species\n",
      "0             5.1          3.5           1.4          0.2     Iris-setosa\n",
      "1             4.9          3.0           1.4          0.2     Iris-setosa\n",
      "2             4.7          3.2           1.3          0.2     Iris-setosa\n",
      "3             4.6          3.1           1.5          0.2     Iris-setosa\n",
      "4             5.0          3.6           1.4          0.2     Iris-setosa\n",
      "..            ...          ...           ...          ...             ...\n",
      "145           6.7          3.0           5.2          2.3  Iris-virginica\n",
      "146           6.3          2.5           5.0          1.9  Iris-virginica\n",
      "147           6.5          3.0           5.2          2.0  Iris-virginica\n",
      "148           6.2          3.4           5.4          2.3  Iris-virginica\n",
      "149           5.9          3.0           5.1          1.8  Iris-virginica\n",
      "\n",
      "[150 rows x 5 columns]\n"
     ]
    }
   ],
   "source": [
    "import pandas as pd\n",
    "df = pd.read_csv(\"../input/iris-flower-dataset/IRIS.csv\")\n",
    "print(df)"
   ]
  },
  {
   "cell_type": "code",
   "execution_count": 3,
   "id": "f3ef6786",
   "metadata": {
    "execution": {
     "iopub.execute_input": "2022-05-02T10:57:29.750676Z",
     "iopub.status.busy": "2022-05-02T10:57:29.749939Z",
     "iopub.status.idle": "2022-05-02T10:57:29.764253Z",
     "shell.execute_reply": "2022-05-02T10:57:29.763651Z"
    },
    "papermill": {
     "duration": 0.026218,
     "end_time": "2022-05-02T10:57:29.767780",
     "exception": false,
     "start_time": "2022-05-02T10:57:29.741562",
     "status": "completed"
    },
    "tags": []
   },
   "outputs": [
    {
     "name": "stdout",
     "output_type": "stream",
     "text": [
      "   sepal_length  sepal_width  petal_length  petal_width      species\n",
      "0           5.1          3.5           1.4          0.2  Iris-setosa\n",
      "1           4.9          3.0           1.4          0.2  Iris-setosa\n",
      "2           4.7          3.2           1.3          0.2  Iris-setosa\n",
      "3           4.6          3.1           1.5          0.2  Iris-setosa\n",
      "     sepal_length  sepal_width  petal_length  petal_width         species\n",
      "145           6.7          3.0           5.2          2.3  Iris-virginica\n",
      "146           6.3          2.5           5.0          1.9  Iris-virginica\n",
      "147           6.5          3.0           5.2          2.0  Iris-virginica\n",
      "148           6.2          3.4           5.4          2.3  Iris-virginica\n",
      "149           5.9          3.0           5.1          1.8  Iris-virginica\n"
     ]
    }
   ],
   "source": [
    "print(df.head(4))\n",
    "print(df.tail(5))"
   ]
  },
  {
   "cell_type": "code",
   "execution_count": 4,
   "id": "f7cf7946",
   "metadata": {
    "execution": {
     "iopub.execute_input": "2022-05-02T10:57:29.791637Z",
     "iopub.status.busy": "2022-05-02T10:57:29.790943Z",
     "iopub.status.idle": "2022-05-02T10:57:29.799056Z",
     "shell.execute_reply": "2022-05-02T10:57:29.797804Z"
    },
    "papermill": {
     "duration": 0.022779,
     "end_time": "2022-05-02T10:57:29.801761",
     "exception": false,
     "start_time": "2022-05-02T10:57:29.778982",
     "status": "completed"
    },
    "tags": []
   },
   "outputs": [
    {
     "name": "stdout",
     "output_type": "stream",
     "text": [
      "sepal_length    float64\n",
      "sepal_width     float64\n",
      "petal_length    float64\n",
      "petal_width     float64\n",
      "species          object\n",
      "dtype: object\n"
     ]
    }
   ],
   "source": [
    "print(df.dtypes)"
   ]
  },
  {
   "cell_type": "code",
   "execution_count": 5,
   "id": "e8a0fa86",
   "metadata": {
    "execution": {
     "iopub.execute_input": "2022-05-02T10:57:29.817942Z",
     "iopub.status.busy": "2022-05-02T10:57:29.817653Z",
     "iopub.status.idle": "2022-05-02T10:57:29.822663Z",
     "shell.execute_reply": "2022-05-02T10:57:29.821874Z"
    },
    "papermill": {
     "duration": 0.014817,
     "end_time": "2022-05-02T10:57:29.824568",
     "exception": false,
     "start_time": "2022-05-02T10:57:29.809751",
     "status": "completed"
    },
    "tags": []
   },
   "outputs": [
    {
     "name": "stdout",
     "output_type": "stream",
     "text": [
      "750\n",
      "(150, 5)\n"
     ]
    }
   ],
   "source": [
    "print(df.size)\n",
    "print(df.shape)"
   ]
  },
  {
   "cell_type": "code",
   "execution_count": null,
   "id": "b4fd2e87",
   "metadata": {
    "papermill": {
     "duration": 0.006975,
     "end_time": "2022-05-02T10:57:29.838844",
     "exception": false,
     "start_time": "2022-05-02T10:57:29.831869",
     "status": "completed"
    },
    "tags": []
   },
   "outputs": [],
   "source": []
  }
 ],
 "metadata": {
  "kernelspec": {
   "display_name": "Python 3",
   "language": "python",
   "name": "python3"
  },
  "language_info": {
   "codemirror_mode": {
    "name": "ipython",
    "version": 3
   },
   "file_extension": ".py",
   "mimetype": "text/x-python",
   "name": "python",
   "nbconvert_exporter": "python",
   "pygments_lexer": "ipython3",
   "version": "3.7.12"
  },
  "papermill": {
   "default_parameters": {},
   "duration": 9.435759,
   "end_time": "2022-05-02T10:57:30.465856",
   "environment_variables": {},
   "exception": null,
   "input_path": "__notebook__.ipynb",
   "output_path": "__notebook__.ipynb",
   "parameters": {},
   "start_time": "2022-05-02T10:57:21.030097",
   "version": "2.3.4"
  }
 },
 "nbformat": 4,
 "nbformat_minor": 5
}
