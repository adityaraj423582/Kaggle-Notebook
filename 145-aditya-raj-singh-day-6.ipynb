{
 "cells": [
  {
   "cell_type": "code",
   "execution_count": 1,
   "id": "af533117",
   "metadata": {
    "_cell_guid": "b1076dfc-b9ad-4769-8c92-a6c4dae69d19",
    "_uuid": "8f2839f25d086af736a60e9eeb907d3b93b6e0e5",
    "execution": {
     "iopub.execute_input": "2022-05-05T18:33:47.183139Z",
     "iopub.status.busy": "2022-05-05T18:33:47.182605Z",
     "iopub.status.idle": "2022-05-05T18:33:47.212093Z",
     "shell.execute_reply": "2022-05-05T18:33:47.211094Z"
    },
    "papermill": {
     "duration": 0.049755,
     "end_time": "2022-05-05T18:33:47.215257",
     "exception": false,
     "start_time": "2022-05-05T18:33:47.165502",
     "status": "completed"
    },
    "tags": []
   },
   "outputs": [
    {
     "name": "stdout",
     "output_type": "stream",
     "text": [
      "/kaggle/input/auto-mpg-data-set/carmpg.csv\n",
      "/kaggle/input/autompg-dataset/auto-mpg.csv\n"
     ]
    }
   ],
   "source": [
    "# This Python 3 environment comes with many helpful analytics libraries installed\n",
    "# It is defined by the kaggle/python Docker image: https://github.com/kaggle/docker-python\n",
    "# For example, here's several helpful packages to load\n",
    "\n",
    "import numpy as np # linear algebra\n",
    "import pandas as pd # data processing, CSV file I/O (e.g. pd.read_csv)\n",
    "\n",
    "# Input data files are available in the read-only \"../input/\" directory\n",
    "# For example, running this (by clicking run or pressing Shift+Enter) will list all files under the input directory\n",
    "\n",
    "import os\n",
    "for dirname, _, filenames in os.walk('/kaggle/input'):\n",
    "    for filename in filenames:\n",
    "        print(os.path.join(dirname, filename))\n",
    "\n",
    "# You can write up to 20GB to the current directory (/kaggle/working/) that gets preserved as output when you create a version using \"Save & Run All\" \n",
    "# You can also write temporary files to /kaggle/temp/, but they won't be saved outside of the current session"
   ]
  },
  {
   "cell_type": "code",
   "execution_count": null,
   "id": "541426ea",
   "metadata": {
    "papermill": {
     "duration": 0.01028,
     "end_time": "2022-05-05T18:33:47.236874",
     "exception": false,
     "start_time": "2022-05-05T18:33:47.226594",
     "status": "completed"
    },
    "tags": []
   },
   "outputs": [],
   "source": []
  },
  {
   "cell_type": "code",
   "execution_count": 2,
   "id": "ac9a6f53",
   "metadata": {
    "execution": {
     "iopub.execute_input": "2022-05-05T18:33:47.259287Z",
     "iopub.status.busy": "2022-05-05T18:33:47.259014Z",
     "iopub.status.idle": "2022-05-05T18:33:47.262668Z",
     "shell.execute_reply": "2022-05-05T18:33:47.262039Z"
    },
    "papermill": {
     "duration": 0.019085,
     "end_time": "2022-05-05T18:33:47.266390",
     "exception": false,
     "start_time": "2022-05-05T18:33:47.247305",
     "status": "completed"
    },
    "tags": []
   },
   "outputs": [],
   "source": [
    "import numpy as np # linear algebra\n",
    "import pandas as pd # data processing, CSV file I/O (e.g. pd.read_csv)"
   ]
  },
  {
   "cell_type": "code",
   "execution_count": 3,
   "id": "4852b8b0",
   "metadata": {
    "execution": {
     "iopub.execute_input": "2022-05-05T18:33:47.289526Z",
     "iopub.status.busy": "2022-05-05T18:33:47.289092Z",
     "iopub.status.idle": "2022-05-05T18:33:48.461127Z",
     "shell.execute_reply": "2022-05-05T18:33:48.460295Z"
    },
    "papermill": {
     "duration": 1.186435,
     "end_time": "2022-05-05T18:33:48.463619",
     "exception": false,
     "start_time": "2022-05-05T18:33:47.277184",
     "status": "completed"
    },
    "tags": []
   },
   "outputs": [],
   "source": [
    "from sklearn.model_selection import train_test_split\n",
    "from sklearn.metrics import mean_squared_error, r2_score\n",
    "from sklearn import linear_model"
   ]
  },
  {
   "cell_type": "code",
   "execution_count": 4,
   "id": "892ec09c",
   "metadata": {
    "execution": {
     "iopub.execute_input": "2022-05-05T18:33:48.485040Z",
     "iopub.status.busy": "2022-05-05T18:33:48.484274Z",
     "iopub.status.idle": "2022-05-05T18:33:48.508620Z",
     "shell.execute_reply": "2022-05-05T18:33:48.507282Z"
    },
    "papermill": {
     "duration": 0.037658,
     "end_time": "2022-05-05T18:33:48.511094",
     "exception": false,
     "start_time": "2022-05-05T18:33:48.473436",
     "status": "completed"
    },
    "tags": []
   },
   "outputs": [],
   "source": [
    "data=pd.read_csv(\"../input/auto-mpg-data-set/carmpg.csv\")\n",
    "predictors = data.iloc[:,1:3]\n",
    "target = data.iloc[:,0]\n",
    "predictors_train, predictors_test,target_train, target_test=train_test_split(predictors, target, test_size=0.3, random_state = 123)"
   ]
  },
  {
   "cell_type": "code",
   "execution_count": 5,
   "id": "aefda606",
   "metadata": {
    "execution": {
     "iopub.execute_input": "2022-05-05T18:33:48.532172Z",
     "iopub.status.busy": "2022-05-05T18:33:48.531841Z",
     "iopub.status.idle": "2022-05-05T18:33:48.561325Z",
     "shell.execute_reply": "2022-05-05T18:33:48.560529Z"
    },
    "papermill": {
     "duration": 0.0424,
     "end_time": "2022-05-05T18:33:48.563433",
     "exception": false,
     "start_time": "2022-05-05T18:33:48.521033",
     "status": "completed"
    },
    "tags": []
   },
   "outputs": [
    {
     "data": {
      "text/html": [
       "<div>\n",
       "<style scoped>\n",
       "    .dataframe tbody tr th:only-of-type {\n",
       "        vertical-align: middle;\n",
       "    }\n",
       "\n",
       "    .dataframe tbody tr th {\n",
       "        vertical-align: top;\n",
       "    }\n",
       "\n",
       "    .dataframe thead th {\n",
       "        text-align: right;\n",
       "    }\n",
       "</style>\n",
       "<table border=\"1\" class=\"dataframe\">\n",
       "  <thead>\n",
       "    <tr style=\"text-align: right;\">\n",
       "      <th></th>\n",
       "      <th>mpg</th>\n",
       "      <th>cylinders</th>\n",
       "      <th>displacement</th>\n",
       "      <th>horsepower</th>\n",
       "      <th>weight</th>\n",
       "      <th>acceleration</th>\n",
       "      <th>model year</th>\n",
       "      <th>origin</th>\n",
       "      <th>car name</th>\n",
       "    </tr>\n",
       "  </thead>\n",
       "  <tbody>\n",
       "    <tr>\n",
       "      <th>0</th>\n",
       "      <td>18.0</td>\n",
       "      <td>8</td>\n",
       "      <td>307.0</td>\n",
       "      <td>130</td>\n",
       "      <td>3504</td>\n",
       "      <td>12.0</td>\n",
       "      <td>70</td>\n",
       "      <td>1</td>\n",
       "      <td>\"chevrolet chevelle malibu\"</td>\n",
       "    </tr>\n",
       "    <tr>\n",
       "      <th>1</th>\n",
       "      <td>15.0</td>\n",
       "      <td>8</td>\n",
       "      <td>350.0</td>\n",
       "      <td>165</td>\n",
       "      <td>3693</td>\n",
       "      <td>11.5</td>\n",
       "      <td>70</td>\n",
       "      <td>1</td>\n",
       "      <td>\"buick skylark 320\"</td>\n",
       "    </tr>\n",
       "    <tr>\n",
       "      <th>2</th>\n",
       "      <td>18.0</td>\n",
       "      <td>8</td>\n",
       "      <td>318.0</td>\n",
       "      <td>150</td>\n",
       "      <td>3436</td>\n",
       "      <td>11.0</td>\n",
       "      <td>70</td>\n",
       "      <td>1</td>\n",
       "      <td>\"plymouth satellite\"</td>\n",
       "    </tr>\n",
       "    <tr>\n",
       "      <th>3</th>\n",
       "      <td>16.0</td>\n",
       "      <td>8</td>\n",
       "      <td>304.0</td>\n",
       "      <td>150</td>\n",
       "      <td>3433</td>\n",
       "      <td>12.0</td>\n",
       "      <td>70</td>\n",
       "      <td>1</td>\n",
       "      <td>\"amc rebel sst\"</td>\n",
       "    </tr>\n",
       "    <tr>\n",
       "      <th>4</th>\n",
       "      <td>17.0</td>\n",
       "      <td>8</td>\n",
       "      <td>302.0</td>\n",
       "      <td>140</td>\n",
       "      <td>3449</td>\n",
       "      <td>10.5</td>\n",
       "      <td>70</td>\n",
       "      <td>1</td>\n",
       "      <td>\"ford torino\"</td>\n",
       "    </tr>\n",
       "    <tr>\n",
       "      <th>...</th>\n",
       "      <td>...</td>\n",
       "      <td>...</td>\n",
       "      <td>...</td>\n",
       "      <td>...</td>\n",
       "      <td>...</td>\n",
       "      <td>...</td>\n",
       "      <td>...</td>\n",
       "      <td>...</td>\n",
       "      <td>...</td>\n",
       "    </tr>\n",
       "    <tr>\n",
       "      <th>393</th>\n",
       "      <td>27.0</td>\n",
       "      <td>4</td>\n",
       "      <td>140.0</td>\n",
       "      <td>86</td>\n",
       "      <td>2790</td>\n",
       "      <td>15.6</td>\n",
       "      <td>82</td>\n",
       "      <td>1</td>\n",
       "      <td>\"ford mustang gl\"</td>\n",
       "    </tr>\n",
       "    <tr>\n",
       "      <th>394</th>\n",
       "      <td>44.0</td>\n",
       "      <td>4</td>\n",
       "      <td>97.0</td>\n",
       "      <td>52</td>\n",
       "      <td>2130</td>\n",
       "      <td>24.6</td>\n",
       "      <td>82</td>\n",
       "      <td>2</td>\n",
       "      <td>\"vw pickup\"</td>\n",
       "    </tr>\n",
       "    <tr>\n",
       "      <th>395</th>\n",
       "      <td>32.0</td>\n",
       "      <td>4</td>\n",
       "      <td>135.0</td>\n",
       "      <td>84</td>\n",
       "      <td>2295</td>\n",
       "      <td>11.6</td>\n",
       "      <td>82</td>\n",
       "      <td>1</td>\n",
       "      <td>\"dodge rampage\"</td>\n",
       "    </tr>\n",
       "    <tr>\n",
       "      <th>396</th>\n",
       "      <td>28.0</td>\n",
       "      <td>4</td>\n",
       "      <td>120.0</td>\n",
       "      <td>79</td>\n",
       "      <td>2625</td>\n",
       "      <td>18.6</td>\n",
       "      <td>82</td>\n",
       "      <td>1</td>\n",
       "      <td>\"ford ranger\"</td>\n",
       "    </tr>\n",
       "    <tr>\n",
       "      <th>397</th>\n",
       "      <td>31.0</td>\n",
       "      <td>4</td>\n",
       "      <td>119.0</td>\n",
       "      <td>82</td>\n",
       "      <td>2720</td>\n",
       "      <td>19.4</td>\n",
       "      <td>82</td>\n",
       "      <td>1</td>\n",
       "      <td>\"chevy s-10\"</td>\n",
       "    </tr>\n",
       "  </tbody>\n",
       "</table>\n",
       "<p>398 rows × 9 columns</p>\n",
       "</div>"
      ],
      "text/plain": [
       "      mpg  cylinders  displacement horsepower  weight  acceleration  \\\n",
       "0    18.0          8         307.0        130    3504          12.0   \n",
       "1    15.0          8         350.0        165    3693          11.5   \n",
       "2    18.0          8         318.0        150    3436          11.0   \n",
       "3    16.0          8         304.0        150    3433          12.0   \n",
       "4    17.0          8         302.0        140    3449          10.5   \n",
       "..    ...        ...           ...        ...     ...           ...   \n",
       "393  27.0          4         140.0         86    2790          15.6   \n",
       "394  44.0          4          97.0         52    2130          24.6   \n",
       "395  32.0          4         135.0         84    2295          11.6   \n",
       "396  28.0          4         120.0         79    2625          18.6   \n",
       "397  31.0          4         119.0         82    2720          19.4   \n",
       "\n",
       "     model year  origin                     car name  \n",
       "0            70       1  \"chevrolet chevelle malibu\"  \n",
       "1            70       1          \"buick skylark 320\"  \n",
       "2            70       1         \"plymouth satellite\"  \n",
       "3            70       1              \"amc rebel sst\"  \n",
       "4            70       1                \"ford torino\"  \n",
       "..          ...     ...                          ...  \n",
       "393          82       1            \"ford mustang gl\"  \n",
       "394          82       2                  \"vw pickup\"  \n",
       "395          82       1              \"dodge rampage\"  \n",
       "396          82       1                \"ford ranger\"  \n",
       "397          82       1                 \"chevy s-10\"  \n",
       "\n",
       "[398 rows x 9 columns]"
      ]
     },
     "execution_count": 5,
     "metadata": {},
     "output_type": "execute_result"
    }
   ],
   "source": [
    "data"
   ]
  },
  {
   "cell_type": "code",
   "execution_count": 6,
   "id": "9f807b8b",
   "metadata": {
    "execution": {
     "iopub.execute_input": "2022-05-05T18:33:48.586623Z",
     "iopub.status.busy": "2022-05-05T18:33:48.585637Z",
     "iopub.status.idle": "2022-05-05T18:33:48.614256Z",
     "shell.execute_reply": "2022-05-05T18:33:48.613473Z"
    },
    "papermill": {
     "duration": 0.042386,
     "end_time": "2022-05-05T18:33:48.616530",
     "exception": false,
     "start_time": "2022-05-05T18:33:48.574144",
     "status": "completed"
    },
    "tags": []
   },
   "outputs": [
    {
     "data": {
      "text/plain": [
       "0.5863700626722261"
      ]
     },
     "execution_count": 6,
     "metadata": {},
     "output_type": "execute_result"
    }
   ],
   "source": [
    "lm = linear_model.LinearRegression()\n",
    "model = lm.fit(predictors_train, target_train)\n",
    "prediction= model.predict(predictors_test)\n",
    "mean_squared_error(target_test,prediction)\n",
    "r2_score(target_test, prediction)"
   ]
  },
  {
   "cell_type": "code",
   "execution_count": null,
   "id": "7fac5595",
   "metadata": {
    "papermill": {
     "duration": 0.010194,
     "end_time": "2022-05-05T18:33:48.637633",
     "exception": false,
     "start_time": "2022-05-05T18:33:48.627439",
     "status": "completed"
    },
    "tags": []
   },
   "outputs": [],
   "source": []
  }
 ],
 "metadata": {
  "kernelspec": {
   "display_name": "Python 3",
   "language": "python",
   "name": "python3"
  },
  "language_info": {
   "codemirror_mode": {
    "name": "ipython",
    "version": 3
   },
   "file_extension": ".py",
   "mimetype": "text/x-python",
   "name": "python",
   "nbconvert_exporter": "python",
   "pygments_lexer": "ipython3",
   "version": "3.7.12"
  },
  "papermill": {
   "default_parameters": {},
   "duration": 12.811663,
   "end_time": "2022-05-05T18:33:49.369436",
   "environment_variables": {},
   "exception": null,
   "input_path": "__notebook__.ipynb",
   "output_path": "__notebook__.ipynb",
   "parameters": {},
   "start_time": "2022-05-05T18:33:36.557773",
   "version": "2.3.4"
  }
 },
 "nbformat": 4,
 "nbformat_minor": 5
}
